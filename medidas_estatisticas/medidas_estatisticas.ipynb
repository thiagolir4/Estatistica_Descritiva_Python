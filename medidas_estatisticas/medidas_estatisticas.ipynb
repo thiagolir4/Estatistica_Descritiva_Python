{
 "cells": [
  {
   "cell_type": "code",
   "execution_count": 2,
   "id": "8f8091d0",
   "metadata": {},
   "outputs": [],
   "source": [
    "import pandas as pd\n",
    "import matplotlib.pyplot as plt\n",
    "import numpy as np"
   ]
  },
  {
   "cell_type": "code",
   "execution_count": 3,
   "id": "a642fd3d",
   "metadata": {},
   "outputs": [],
   "source": [
    "df = pd.read_csv(\"./ifood-restaurants-february-2021.csv\", sep=\",\",header=0)"
   ]
  },
  {
   "cell_type": "code",
   "execution_count": 4,
   "id": "348c9153",
   "metadata": {},
   "outputs": [
    {
     "data": {
      "text/html": [
       "<div>\n",
       "<style scoped>\n",
       "    .dataframe tbody tr th:only-of-type {\n",
       "        vertical-align: middle;\n",
       "    }\n",
       "\n",
       "    .dataframe tbody tr th {\n",
       "        vertical-align: top;\n",
       "    }\n",
       "\n",
       "    .dataframe thead th {\n",
       "        text-align: right;\n",
       "    }\n",
       "</style>\n",
       "<table border=\"1\" class=\"dataframe\">\n",
       "  <thead>\n",
       "    <tr style=\"text-align: right;\">\n",
       "      <th></th>\n",
       "      <th>availableForScheduling</th>\n",
       "      <th>avatar</th>\n",
       "      <th>category</th>\n",
       "      <th>delivery_fee</th>\n",
       "      <th>delivery_time</th>\n",
       "      <th>distance</th>\n",
       "      <th>ibge</th>\n",
       "      <th>minimumOrderValue</th>\n",
       "      <th>name</th>\n",
       "      <th>paymentCodes</th>\n",
       "      <th>price_range</th>\n",
       "      <th>rating</th>\n",
       "      <th>tags</th>\n",
       "      <th>url</th>\n",
       "    </tr>\n",
       "  </thead>\n",
       "  <tbody>\n",
       "    <tr>\n",
       "      <th>0</th>\n",
       "      <td>False</td>\n",
       "      <td>https://static-images.ifood.com.br/image/uploa...</td>\n",
       "      <td>Marmita</td>\n",
       "      <td>3.99</td>\n",
       "      <td>27</td>\n",
       "      <td>1.22</td>\n",
       "      <td>5300108</td>\n",
       "      <td>10.0</td>\n",
       "      <td>Cantina Arte &amp; Sabor</td>\n",
       "      <td>DNR $$ MPAY $$ MOVPAY_MC $$ MC $$ GPY_ELO $$ E...</td>\n",
       "      <td>CHEAPEST</td>\n",
       "      <td>0.0</td>\n",
       "      <td>ADDRESS_PREFORM_TYPE $$ CART::MCHT::100_DELIVE...</td>\n",
       "      <td>https://www.ifood.com.br/delivery/brasilia-df/...</td>\n",
       "    </tr>\n",
       "    <tr>\n",
       "      <th>1</th>\n",
       "      <td>False</td>\n",
       "      <td>https://static-images.ifood.com.br/image/uploa...</td>\n",
       "      <td>Açaí</td>\n",
       "      <td>7.99</td>\n",
       "      <td>61</td>\n",
       "      <td>4.96</td>\n",
       "      <td>5300108</td>\n",
       "      <td>10.0</td>\n",
       "      <td>Raruty Açaí Raiz</td>\n",
       "      <td>DNR $$ MPAY $$ MOVPAY_MC $$ MC $$ GPY_ELO $$ E...</td>\n",
       "      <td>CHEAPEST</td>\n",
       "      <td>0.0</td>\n",
       "      <td>ADDRESS_PREFORM_TYPE $$ GUIDED_HELP_TYPE $$ ME...</td>\n",
       "      <td>https://www.ifood.com.br/delivery/brasilia-df/...</td>\n",
       "    </tr>\n",
       "    <tr>\n",
       "      <th>2</th>\n",
       "      <td>False</td>\n",
       "      <td>https://static-images.ifood.com.br/image/uploa...</td>\n",
       "      <td>Bebidas</td>\n",
       "      <td>11.99</td>\n",
       "      <td>70</td>\n",
       "      <td>8.35</td>\n",
       "      <td>5300108</td>\n",
       "      <td>5.0</td>\n",
       "      <td>Toma na Kombi</td>\n",
       "      <td>DNR $$ MPAY $$ MOVPAY_MC $$ MC $$ GPY_ELO $$ R...</td>\n",
       "      <td>MODERATE</td>\n",
       "      <td>0.0</td>\n",
       "      <td>ADDRESS_PREFORM_TYPE $$ CPGN_USER_DISCOUNT_6_L...</td>\n",
       "      <td>https://www.ifood.com.br/delivery/brasilia-df/...</td>\n",
       "    </tr>\n",
       "    <tr>\n",
       "      <th>3</th>\n",
       "      <td>False</td>\n",
       "      <td>https://static-images.ifood.com.br/image/uploa...</td>\n",
       "      <td>Carnes</td>\n",
       "      <td>16.49</td>\n",
       "      <td>63</td>\n",
       "      <td>6.35</td>\n",
       "      <td>5300108</td>\n",
       "      <td>20.0</td>\n",
       "      <td>Churrasquinho do Barriga´s</td>\n",
       "      <td>DNR $$ MPAY $$ MOVPAY_MC $$ MC $$ GPY_ELO $$ E...</td>\n",
       "      <td>CHEAPEST</td>\n",
       "      <td>0.0</td>\n",
       "      <td>ADDRESS_PREFORM_TYPE $$ GUIDED_HELP_TYPE $$ NO...</td>\n",
       "      <td>https://www.ifood.com.br/delivery/brasilia-df/...</td>\n",
       "    </tr>\n",
       "    <tr>\n",
       "      <th>4</th>\n",
       "      <td>False</td>\n",
       "      <td>https://static-images.ifood.com.br/image/uploa...</td>\n",
       "      <td>Brasileira</td>\n",
       "      <td>11.99</td>\n",
       "      <td>58</td>\n",
       "      <td>5.22</td>\n",
       "      <td>5300108</td>\n",
       "      <td>20.0</td>\n",
       "      <td>Prime Restaurante</td>\n",
       "      <td>DNR $$ MPAY $$ MOVPAY_MC $$ MC $$ GPY_ELO $$ E...</td>\n",
       "      <td>CHEAPEST</td>\n",
       "      <td>0.0</td>\n",
       "      <td>ADDRESS_PREFORM_TYPE $$ GUIDED_HELP_TYPE $$ NOVO</td>\n",
       "      <td>https://www.ifood.com.br/delivery/brasilia-df/...</td>\n",
       "    </tr>\n",
       "  </tbody>\n",
       "</table>\n",
       "</div>"
      ],
      "text/plain": [
       "   availableForScheduling                                             avatar  \\\n",
       "0                   False  https://static-images.ifood.com.br/image/uploa...   \n",
       "1                   False  https://static-images.ifood.com.br/image/uploa...   \n",
       "2                   False  https://static-images.ifood.com.br/image/uploa...   \n",
       "3                   False  https://static-images.ifood.com.br/image/uploa...   \n",
       "4                   False  https://static-images.ifood.com.br/image/uploa...   \n",
       "\n",
       "     category  delivery_fee  delivery_time  distance     ibge  \\\n",
       "0     Marmita          3.99             27      1.22  5300108   \n",
       "1        Açaí          7.99             61      4.96  5300108   \n",
       "2     Bebidas         11.99             70      8.35  5300108   \n",
       "3      Carnes         16.49             63      6.35  5300108   \n",
       "4  Brasileira         11.99             58      5.22  5300108   \n",
       "\n",
       "   minimumOrderValue                        name  \\\n",
       "0               10.0        Cantina Arte & Sabor   \n",
       "1               10.0            Raruty Açaí Raiz   \n",
       "2                5.0               Toma na Kombi   \n",
       "3               20.0  Churrasquinho do Barriga´s   \n",
       "4               20.0           Prime Restaurante   \n",
       "\n",
       "                                        paymentCodes price_range  rating  \\\n",
       "0  DNR $$ MPAY $$ MOVPAY_MC $$ MC $$ GPY_ELO $$ E...    CHEAPEST     0.0   \n",
       "1  DNR $$ MPAY $$ MOVPAY_MC $$ MC $$ GPY_ELO $$ E...    CHEAPEST     0.0   \n",
       "2  DNR $$ MPAY $$ MOVPAY_MC $$ MC $$ GPY_ELO $$ R...    MODERATE     0.0   \n",
       "3  DNR $$ MPAY $$ MOVPAY_MC $$ MC $$ GPY_ELO $$ E...    CHEAPEST     0.0   \n",
       "4  DNR $$ MPAY $$ MOVPAY_MC $$ MC $$ GPY_ELO $$ E...    CHEAPEST     0.0   \n",
       "\n",
       "                                                tags  \\\n",
       "0  ADDRESS_PREFORM_TYPE $$ CART::MCHT::100_DELIVE...   \n",
       "1  ADDRESS_PREFORM_TYPE $$ GUIDED_HELP_TYPE $$ ME...   \n",
       "2  ADDRESS_PREFORM_TYPE $$ CPGN_USER_DISCOUNT_6_L...   \n",
       "3  ADDRESS_PREFORM_TYPE $$ GUIDED_HELP_TYPE $$ NO...   \n",
       "4   ADDRESS_PREFORM_TYPE $$ GUIDED_HELP_TYPE $$ NOVO   \n",
       "\n",
       "                                                 url  \n",
       "0  https://www.ifood.com.br/delivery/brasilia-df/...  \n",
       "1  https://www.ifood.com.br/delivery/brasilia-df/...  \n",
       "2  https://www.ifood.com.br/delivery/brasilia-df/...  \n",
       "3  https://www.ifood.com.br/delivery/brasilia-df/...  \n",
       "4  https://www.ifood.com.br/delivery/brasilia-df/...  "
      ]
     },
     "execution_count": 4,
     "metadata": {},
     "output_type": "execute_result"
    }
   ],
   "source": [
    "df.head(5)"
   ]
  },
  {
   "cell_type": "code",
   "execution_count": 5,
   "id": "333137d6",
   "metadata": {},
   "outputs": [
    {
     "name": "stdout",
     "output_type": "stream",
     "text": [
      "<class 'pandas.core.frame.DataFrame'>\n",
      "RangeIndex: 406399 entries, 0 to 406398\n",
      "Data columns (total 14 columns):\n",
      " #   Column                  Non-Null Count   Dtype  \n",
      "---  ------                  --------------   -----  \n",
      " 0   availableForScheduling  406399 non-null  bool   \n",
      " 1   avatar                  406122 non-null  object \n",
      " 2   category                406399 non-null  object \n",
      " 3   delivery_fee            406399 non-null  float64\n",
      " 4   delivery_time           406399 non-null  int64  \n",
      " 5   distance                406399 non-null  float64\n",
      " 6   ibge                    406399 non-null  int64  \n",
      " 7   minimumOrderValue       406399 non-null  float64\n",
      " 8   name                    406399 non-null  object \n",
      " 9   paymentCodes            406397 non-null  object \n",
      " 10  price_range             406399 non-null  object \n",
      " 11  rating                  406399 non-null  float64\n",
      " 12  tags                    406399 non-null  object \n",
      " 13  url                     406399 non-null  object \n",
      "dtypes: bool(1), float64(4), int64(2), object(7)\n",
      "memory usage: 40.7+ MB\n"
     ]
    }
   ],
   "source": [
    "df.info()"
   ]
  },
  {
   "cell_type": "markdown",
   "id": "454ae255",
   "metadata": {},
   "source": [
    "SELECIONANDO VARIAVEIS CONVENIENTES \n"
   ]
  },
  {
   "cell_type": "code",
   "execution_count": 6,
   "id": "96e47102",
   "metadata": {},
   "outputs": [],
   "source": [
    "df_sel = df[[\"availableForScheduling\", \"category\", \"delivery_fee\", \"delivery_time\", \"price_range\",\"minimumOrderValue\"]]"
   ]
  },
  {
   "cell_type": "code",
   "execution_count": 7,
   "id": "b82ad1ef",
   "metadata": {},
   "outputs": [
    {
     "name": "stdout",
     "output_type": "stream",
     "text": [
      "Variáveis Numéricas ['delivery_fee', 'delivery_time', 'minimumOrderValue']\n",
      "Variáveis Categóricas ['availableForScheduling', 'category', 'price_range']\n"
     ]
    }
   ],
   "source": [
    "#classificar tipos de variáveis\n",
    "numericas = df_sel.select_dtypes(include=['number']).columns.to_list()\n",
    "categoricas =df_sel.select_dtypes(include=['object', 'category', 'bool']).columns.tolist()\n",
    "\n",
    "print(\"Variáveis Numéricas\", numericas)\n",
    "print(\"Variáveis Categóricas\", categoricas)"
   ]
  },
  {
   "cell_type": "markdown",
   "id": "f9613cf4",
   "metadata": {},
   "source": [
    "USANDO FUNÇÃO describe()"
   ]
  },
  {
   "cell_type": "code",
   "execution_count": 8,
   "id": "4fbe610e",
   "metadata": {},
   "outputs": [
    {
     "data": {
      "text/html": [
       "<div>\n",
       "<style scoped>\n",
       "    .dataframe tbody tr th:only-of-type {\n",
       "        vertical-align: middle;\n",
       "    }\n",
       "\n",
       "    .dataframe tbody tr th {\n",
       "        vertical-align: top;\n",
       "    }\n",
       "\n",
       "    .dataframe thead th {\n",
       "        text-align: right;\n",
       "    }\n",
       "</style>\n",
       "<table border=\"1\" class=\"dataframe\">\n",
       "  <thead>\n",
       "    <tr style=\"text-align: right;\">\n",
       "      <th></th>\n",
       "      <th>delivery_fee</th>\n",
       "      <th>delivery_time</th>\n",
       "      <th>minimumOrderValue</th>\n",
       "    </tr>\n",
       "  </thead>\n",
       "  <tbody>\n",
       "    <tr>\n",
       "      <th>count</th>\n",
       "      <td>406399.000000</td>\n",
       "      <td>406399.000000</td>\n",
       "      <td>4.063990e+05</td>\n",
       "    </tr>\n",
       "    <tr>\n",
       "      <th>mean</th>\n",
       "      <td>6.804577</td>\n",
       "      <td>47.432747</td>\n",
       "      <td>2.768909e+02</td>\n",
       "    </tr>\n",
       "    <tr>\n",
       "      <th>std</th>\n",
       "      <td>4.315815</td>\n",
       "      <td>19.662736</td>\n",
       "      <td>1.570668e+05</td>\n",
       "    </tr>\n",
       "    <tr>\n",
       "      <th>min</th>\n",
       "      <td>0.000000</td>\n",
       "      <td>-1.000000</td>\n",
       "      <td>0.000000e+00</td>\n",
       "    </tr>\n",
       "    <tr>\n",
       "      <th>25%</th>\n",
       "      <td>4.000000</td>\n",
       "      <td>35.000000</td>\n",
       "      <td>1.000000e+01</td>\n",
       "    </tr>\n",
       "    <tr>\n",
       "      <th>50%</th>\n",
       "      <td>6.000000</td>\n",
       "      <td>45.000000</td>\n",
       "      <td>1.500000e+01</td>\n",
       "    </tr>\n",
       "    <tr>\n",
       "      <th>75%</th>\n",
       "      <td>9.490000</td>\n",
       "      <td>60.000000</td>\n",
       "      <td>2.000000e+01</td>\n",
       "    </tr>\n",
       "    <tr>\n",
       "      <th>max</th>\n",
       "      <td>35.000000</td>\n",
       "      <td>5050.000000</td>\n",
       "      <td>1.000000e+08</td>\n",
       "    </tr>\n",
       "  </tbody>\n",
       "</table>\n",
       "</div>"
      ],
      "text/plain": [
       "        delivery_fee  delivery_time  minimumOrderValue\n",
       "count  406399.000000  406399.000000       4.063990e+05\n",
       "mean        6.804577      47.432747       2.768909e+02\n",
       "std         4.315815      19.662736       1.570668e+05\n",
       "min         0.000000      -1.000000       0.000000e+00\n",
       "25%         4.000000      35.000000       1.000000e+01\n",
       "50%         6.000000      45.000000       1.500000e+01\n",
       "75%         9.490000      60.000000       2.000000e+01\n",
       "max        35.000000    5050.000000       1.000000e+08"
      ]
     },
     "execution_count": 8,
     "metadata": {},
     "output_type": "execute_result"
    }
   ],
   "source": [
    "df_sel.describe()"
   ]
  },
  {
   "cell_type": "markdown",
   "id": "ed808d58",
   "metadata": {},
   "source": [
    "USANDO FUNÇÃO mode() (moda)"
   ]
  },
  {
   "cell_type": "code",
   "execution_count": 9,
   "id": "4ab47409",
   "metadata": {},
   "outputs": [
    {
     "data": {
      "text/plain": [
       "0    Lanches\n",
       "Name: category, dtype: object"
      ]
     },
     "execution_count": 9,
     "metadata": {},
     "output_type": "execute_result"
    }
   ],
   "source": [
    "df_sel[\"category\"].mode()"
   ]
  },
  {
   "cell_type": "code",
   "execution_count": 10,
   "id": "01df68e5",
   "metadata": {},
   "outputs": [
    {
     "data": {
      "text/plain": [
       "pandas.core.series.Series"
      ]
     },
     "execution_count": 10,
     "metadata": {},
     "output_type": "execute_result"
    }
   ],
   "source": [
    "type(df_sel[\"category\"].mode())"
   ]
  },
  {
   "cell_type": "code",
   "execution_count": 11,
   "id": "482faeaf",
   "metadata": {},
   "outputs": [
    {
     "data": {
      "text/plain": [
       "'Lanches'"
      ]
     },
     "execution_count": 11,
     "metadata": {},
     "output_type": "execute_result"
    }
   ],
   "source": [
    "df_sel['category'].mode()[0]"
   ]
  },
  {
   "cell_type": "code",
   "execution_count": 12,
   "id": "8de3db9f",
   "metadata": {},
   "outputs": [
    {
     "data": {
      "text/plain": [
       "0    False\n",
       "Name: availableForScheduling, dtype: bool"
      ]
     },
     "execution_count": 12,
     "metadata": {},
     "output_type": "execute_result"
    }
   ],
   "source": [
    "#variáveis booleans\n",
    "df_sel[\"availableForScheduling\"].mode()"
   ]
  },
  {
   "cell_type": "code",
   "execution_count": 13,
   "id": "3ff59722",
   "metadata": {},
   "outputs": [
    {
     "data": {
      "text/plain": [
       "0    0.0\n",
       "Name: delivery_fee, dtype: float64"
      ]
     },
     "execution_count": 13,
     "metadata": {},
     "output_type": "execute_result"
    }
   ],
   "source": [
    "#variaveis numericas\n",
    "df_sel['delivery_fee'].mode()"
   ]
  },
  {
   "cell_type": "markdown",
   "id": "3bf34a81",
   "metadata": {},
   "source": [
    "Avaliando a moda das variáveis"
   ]
  },
  {
   "cell_type": "code",
   "execution_count": 14,
   "id": "cc42107b",
   "metadata": {},
   "outputs": [
    {
     "name": "stdout",
     "output_type": "stream",
     "text": [
      "<><><><><><><><><><><><><>\n",
      "Variável availableForScheduling\n",
      "Moda: False\n",
      "\n",
      "availableForScheduling\n",
      "False    404702\n",
      "True       1697\n",
      "Name: count, dtype: int64\n",
      "\n",
      "<><><><><><><><><><><><><>\n",
      "Variável category\n",
      "Moda: Lanches\n",
      "\n",
      "category\n",
      "Lanches          98946\n",
      "Brasileira       73348\n",
      "Doces & Bolos    39828\n",
      "Pizza            36819\n",
      "Açaí             22110\n",
      "Name: count, dtype: int64\n",
      "\n",
      "<><><><><><><><><><><><><>\n",
      "Variável price_range\n",
      "Moda: CHEAPEST\n",
      "\n",
      "price_range\n",
      "CHEAPEST          294140\n",
      "MODERATE           44769\n",
      "CHEAP              43100\n",
      "EXPENSIVE          15778\n",
      "MOST_EXPENSIVE      8612\n",
      "Name: count, dtype: int64\n",
      "\n"
     ]
    }
   ],
   "source": [
    "for variavel in categoricas:\n",
    "    contagens = df_sel[variavel].value_counts()\n",
    "\n",
    "    if len(contagens) >=5:\n",
    "        print(\"<><><><><><><><><><><><><>\")\n",
    "        print(f\"Variável {variavel}\")\n",
    "        print(f\"Moda: {df_sel[variavel].mode()[0]}\\n\")\n",
    "        print(f\"{contagens.iloc[0:5]}\\n\")\n",
    "    else:\n",
    "        print(\"<><><><><><><><><><><><><>\")\n",
    "        print(f\"Variável {variavel}\")\n",
    "        print(f\"Moda: {df_sel[variavel].mode()[0]}\\n\")\n",
    "        print(f\"{contagens.iloc[0:5]}\\n\")"
   ]
  },
  {
   "cell_type": "markdown",
   "id": "60ded2d1",
   "metadata": {},
   "source": [
    "USANDO A FUNÇÃO mean() (média)"
   ]
  },
  {
   "cell_type": "code",
   "execution_count": 15,
   "id": "1de0412d",
   "metadata": {},
   "outputs": [
    {
     "data": {
      "text/plain": [
       "['delivery_fee', 'delivery_time', 'minimumOrderValue']"
      ]
     },
     "execution_count": 15,
     "metadata": {},
     "output_type": "execute_result"
    }
   ],
   "source": [
    "numericas"
   ]
  },
  {
   "cell_type": "code",
   "execution_count": 16,
   "id": "502e59e2",
   "metadata": {},
   "outputs": [
    {
     "data": {
      "text/plain": [
       "np.float64(6.804577004372552)"
      ]
     },
     "execution_count": 16,
     "metadata": {},
     "output_type": "execute_result"
    }
   ],
   "source": [
    "df_sel['delivery_fee'].mean()"
   ]
  },
  {
   "cell_type": "code",
   "execution_count": 17,
   "id": "93213b79",
   "metadata": {},
   "outputs": [
    {
     "data": {
      "text/plain": [
       "delivery_fee           6.804577\n",
       "delivery_time         47.432747\n",
       "minimumOrderValue    276.890929\n",
       "dtype: float64"
      ]
     },
     "execution_count": 17,
     "metadata": {},
     "output_type": "execute_result"
    }
   ],
   "source": [
    "df_sel[numericas].mean()"
   ]
  },
  {
   "cell_type": "code",
   "execution_count": 18,
   "id": "fbc6ccb8",
   "metadata": {},
   "outputs": [
    {
     "data": {
      "text/plain": [
       "6.804577004372552"
      ]
     },
     "execution_count": 18,
     "metadata": {},
     "output_type": "execute_result"
    }
   ],
   "source": [
    "float(df_sel['delivery_fee'].mean())"
   ]
  },
  {
   "cell_type": "code",
   "execution_count": 19,
   "id": "05ad9e1a",
   "metadata": {},
   "outputs": [
    {
     "name": "stdout",
     "output_type": "stream",
     "text": [
      "Média Variáveldelivery_fee: 6.804577004372552\n",
      "Média Variáveldelivery_time: 47.43274712782266\n",
      "Média VariávelminimumOrderValue: 276.89092923456997\n"
     ]
    }
   ],
   "source": [
    "for variavel in numericas:\n",
    "    print(f\"Média Variável{variavel}: {float(df_sel[variavel].mean())}\")"
   ]
  },
  {
   "cell_type": "markdown",
   "id": "50bbd301",
   "metadata": {},
   "source": [
    "USANDO A FUNÇÃO median() (mediana)"
   ]
  },
  {
   "cell_type": "code",
   "execution_count": 20,
   "id": "23210d03",
   "metadata": {},
   "outputs": [
    {
     "data": {
      "text/plain": [
       "np.float64(6.0)"
      ]
     },
     "execution_count": 20,
     "metadata": {},
     "output_type": "execute_result"
    }
   ],
   "source": [
    "df_sel['delivery_fee'].median()"
   ]
  },
  {
   "cell_type": "code",
   "execution_count": 21,
   "id": "6b1e6b7a",
   "metadata": {},
   "outputs": [
    {
     "data": {
      "text/plain": [
       "6.0"
      ]
     },
     "execution_count": 21,
     "metadata": {},
     "output_type": "execute_result"
    }
   ],
   "source": [
    "float(df_sel['delivery_fee'].median())"
   ]
  },
  {
   "cell_type": "code",
   "execution_count": 22,
   "id": "193a417a",
   "metadata": {},
   "outputs": [
    {
     "data": {
      "text/plain": [
       "delivery_fee          6.0\n",
       "delivery_time        45.0\n",
       "minimumOrderValue    15.0\n",
       "dtype: float64"
      ]
     },
     "execution_count": 22,
     "metadata": {},
     "output_type": "execute_result"
    }
   ],
   "source": [
    "df_sel[numericas].median()"
   ]
  },
  {
   "cell_type": "code",
   "execution_count": 23,
   "id": "f1ba52f5",
   "metadata": {},
   "outputs": [
    {
     "name": "stdout",
     "output_type": "stream",
     "text": [
      "Média Variaveldelivery_fee: 6.804577004372552\n",
      "Mediana Variaveldelivery_fee: 6.0\n",
      "\n",
      "Média Variaveldelivery_time: 47.43274712782266\n",
      "Mediana Variaveldelivery_time: 45.0\n",
      "\n",
      "Média VariavelminimumOrderValue: 276.89092923456997\n",
      "Mediana VariavelminimumOrderValue: 15.0\n",
      "\n"
     ]
    }
   ],
   "source": [
    "for variavel in numericas:\n",
    "    print(f\"Média Variavel{variavel}: {float(df_sel[variavel].mean())}\")\n",
    "    print(f\"Mediana Variavel{variavel}: {float(df_sel[variavel].median())}\\n\")"
   ]
  },
  {
   "cell_type": "code",
   "execution_count": 24,
   "id": "05250d30",
   "metadata": {},
   "outputs": [
    {
     "data": {
      "text/plain": [
       "np.float64(99999999.99)"
      ]
     },
     "execution_count": 24,
     "metadata": {},
     "output_type": "execute_result"
    }
   ],
   "source": [
    "df_sel['minimumOrderValue'].max()"
   ]
  },
  {
   "cell_type": "markdown",
   "id": "1df73133",
   "metadata": {},
   "source": [
    "CALCULANDO AMPLITUDE \n"
   ]
  },
  {
   "cell_type": "code",
   "execution_count": 25,
   "id": "af6a2df0",
   "metadata": {},
   "outputs": [],
   "source": [
    "numericas = df.select_dtypes(include=['number']).columns.tolist()"
   ]
  },
  {
   "cell_type": "code",
   "execution_count": 26,
   "id": "681663af",
   "metadata": {},
   "outputs": [
    {
     "data": {
      "text/plain": [
       "['delivery_fee',\n",
       " 'delivery_time',\n",
       " 'distance',\n",
       " 'ibge',\n",
       " 'minimumOrderValue',\n",
       " 'rating']"
      ]
     },
     "execution_count": 26,
     "metadata": {},
     "output_type": "execute_result"
    }
   ],
   "source": [
    "numericas"
   ]
  },
  {
   "cell_type": "code",
   "execution_count": 27,
   "id": "c2b1d32f",
   "metadata": {},
   "outputs": [
    {
     "data": {
      "text/plain": [
       "'ibge'"
      ]
     },
     "execution_count": 27,
     "metadata": {},
     "output_type": "execute_result"
    }
   ],
   "source": [
    "#removendo o ibge da lista de numericas\n",
    "numericas.pop(3)"
   ]
  },
  {
   "cell_type": "code",
   "execution_count": 28,
   "id": "ebf47615",
   "metadata": {},
   "outputs": [
    {
     "data": {
      "text/html": [
       "<div>\n",
       "<style scoped>\n",
       "    .dataframe tbody tr th:only-of-type {\n",
       "        vertical-align: middle;\n",
       "    }\n",
       "\n",
       "    .dataframe tbody tr th {\n",
       "        vertical-align: top;\n",
       "    }\n",
       "\n",
       "    .dataframe thead th {\n",
       "        text-align: right;\n",
       "    }\n",
       "</style>\n",
       "<table border=\"1\" class=\"dataframe\">\n",
       "  <thead>\n",
       "    <tr style=\"text-align: right;\">\n",
       "      <th></th>\n",
       "      <th>delivery_fee</th>\n",
       "      <th>delivery_time</th>\n",
       "      <th>distance</th>\n",
       "      <th>minimumOrderValue</th>\n",
       "      <th>rating</th>\n",
       "    </tr>\n",
       "  </thead>\n",
       "  <tbody>\n",
       "    <tr>\n",
       "      <th>count</th>\n",
       "      <td>406399.000000</td>\n",
       "      <td>406399.000000</td>\n",
       "      <td>406399.000000</td>\n",
       "      <td>4.063990e+05</td>\n",
       "      <td>406399.000000</td>\n",
       "    </tr>\n",
       "    <tr>\n",
       "      <th>mean</th>\n",
       "      <td>6.804577</td>\n",
       "      <td>47.432747</td>\n",
       "      <td>4.219752</td>\n",
       "      <td>2.768909e+02</td>\n",
       "      <td>2.522241</td>\n",
       "    </tr>\n",
       "    <tr>\n",
       "      <th>std</th>\n",
       "      <td>4.315815</td>\n",
       "      <td>19.662736</td>\n",
       "      <td>68.329379</td>\n",
       "      <td>1.570668e+05</td>\n",
       "      <td>2.286103</td>\n",
       "    </tr>\n",
       "    <tr>\n",
       "      <th>min</th>\n",
       "      <td>0.000000</td>\n",
       "      <td>-1.000000</td>\n",
       "      <td>0.000000</td>\n",
       "      <td>0.000000e+00</td>\n",
       "      <td>0.000000</td>\n",
       "    </tr>\n",
       "    <tr>\n",
       "      <th>25%</th>\n",
       "      <td>4.000000</td>\n",
       "      <td>35.000000</td>\n",
       "      <td>1.750000</td>\n",
       "      <td>1.000000e+01</td>\n",
       "      <td>0.000000</td>\n",
       "    </tr>\n",
       "    <tr>\n",
       "      <th>50%</th>\n",
       "      <td>6.000000</td>\n",
       "      <td>45.000000</td>\n",
       "      <td>3.080000</td>\n",
       "      <td>1.500000e+01</td>\n",
       "      <td>3.958900</td>\n",
       "    </tr>\n",
       "    <tr>\n",
       "      <th>75%</th>\n",
       "      <td>9.490000</td>\n",
       "      <td>60.000000</td>\n",
       "      <td>4.830000</td>\n",
       "      <td>2.000000e+01</td>\n",
       "      <td>4.718750</td>\n",
       "    </tr>\n",
       "    <tr>\n",
       "      <th>max</th>\n",
       "      <td>35.000000</td>\n",
       "      <td>5050.000000</td>\n",
       "      <td>11810.190000</td>\n",
       "      <td>1.000000e+08</td>\n",
       "      <td>5.000000</td>\n",
       "    </tr>\n",
       "  </tbody>\n",
       "</table>\n",
       "</div>"
      ],
      "text/plain": [
       "        delivery_fee  delivery_time       distance  minimumOrderValue  \\\n",
       "count  406399.000000  406399.000000  406399.000000       4.063990e+05   \n",
       "mean        6.804577      47.432747       4.219752       2.768909e+02   \n",
       "std         4.315815      19.662736      68.329379       1.570668e+05   \n",
       "min         0.000000      -1.000000       0.000000       0.000000e+00   \n",
       "25%         4.000000      35.000000       1.750000       1.000000e+01   \n",
       "50%         6.000000      45.000000       3.080000       1.500000e+01   \n",
       "75%         9.490000      60.000000       4.830000       2.000000e+01   \n",
       "max        35.000000    5050.000000   11810.190000       1.000000e+08   \n",
       "\n",
       "              rating  \n",
       "count  406399.000000  \n",
       "mean        2.522241  \n",
       "std         2.286103  \n",
       "min         0.000000  \n",
       "25%         0.000000  \n",
       "50%         3.958900  \n",
       "75%         4.718750  \n",
       "max         5.000000  "
      ]
     },
     "execution_count": 28,
     "metadata": {},
     "output_type": "execute_result"
    }
   ],
   "source": [
    "df[numericas].describe()"
   ]
  },
  {
   "cell_type": "code",
   "execution_count": 29,
   "id": "fefab510",
   "metadata": {},
   "outputs": [
    {
     "name": "stdout",
     "output_type": "stream",
     "text": [
      "A amplitude da delivery_fee é: 35.0\n",
      "A amplitude da delivery_time é: 5051\n",
      "A amplitude da distance é: 11810.19\n",
      "A amplitude da minimumOrderValue é: 99999999.99\n",
      "A amplitude da rating é: 5.0\n"
     ]
    }
   ],
   "source": [
    "for variavel in numericas:\n",
    "    amplitude = df[variavel].max() - df[variavel].min()\n",
    "    print(f\"A amplitude da {variavel} é: {amplitude}\")"
   ]
  },
  {
   "cell_type": "markdown",
   "id": "32e2aed7",
   "metadata": {},
   "source": [
    "CALCULANDO A VARIÂNCIA E O DESVIO PADRÃO"
   ]
  },
  {
   "cell_type": "code",
   "execution_count": 30,
   "id": "3cb46e8f",
   "metadata": {},
   "outputs": [
    {
     "data": {
      "text/html": [
       "<div>\n",
       "<style scoped>\n",
       "    .dataframe tbody tr th:only-of-type {\n",
       "        vertical-align: middle;\n",
       "    }\n",
       "\n",
       "    .dataframe tbody tr th {\n",
       "        vertical-align: top;\n",
       "    }\n",
       "\n",
       "    .dataframe thead th {\n",
       "        text-align: right;\n",
       "    }\n",
       "</style>\n",
       "<table border=\"1\" class=\"dataframe\">\n",
       "  <thead>\n",
       "    <tr style=\"text-align: right;\">\n",
       "      <th></th>\n",
       "      <th>availableForScheduling</th>\n",
       "      <th>avatar</th>\n",
       "      <th>category</th>\n",
       "      <th>delivery_fee</th>\n",
       "      <th>delivery_time</th>\n",
       "      <th>distance</th>\n",
       "      <th>ibge</th>\n",
       "      <th>minimumOrderValue</th>\n",
       "      <th>name</th>\n",
       "      <th>paymentCodes</th>\n",
       "      <th>price_range</th>\n",
       "      <th>rating</th>\n",
       "      <th>tags</th>\n",
       "      <th>url</th>\n",
       "    </tr>\n",
       "  </thead>\n",
       "  <tbody>\n",
       "    <tr>\n",
       "      <th>0</th>\n",
       "      <td>False</td>\n",
       "      <td>https://static-images.ifood.com.br/image/uploa...</td>\n",
       "      <td>Marmita</td>\n",
       "      <td>3.99</td>\n",
       "      <td>27</td>\n",
       "      <td>1.22</td>\n",
       "      <td>5300108</td>\n",
       "      <td>10.0</td>\n",
       "      <td>Cantina Arte &amp; Sabor</td>\n",
       "      <td>DNR $$ MPAY $$ MOVPAY_MC $$ MC $$ GPY_ELO $$ E...</td>\n",
       "      <td>CHEAPEST</td>\n",
       "      <td>0.0</td>\n",
       "      <td>ADDRESS_PREFORM_TYPE $$ CART::MCHT::100_DELIVE...</td>\n",
       "      <td>https://www.ifood.com.br/delivery/brasilia-df/...</td>\n",
       "    </tr>\n",
       "    <tr>\n",
       "      <th>1</th>\n",
       "      <td>False</td>\n",
       "      <td>https://static-images.ifood.com.br/image/uploa...</td>\n",
       "      <td>Açaí</td>\n",
       "      <td>7.99</td>\n",
       "      <td>61</td>\n",
       "      <td>4.96</td>\n",
       "      <td>5300108</td>\n",
       "      <td>10.0</td>\n",
       "      <td>Raruty Açaí Raiz</td>\n",
       "      <td>DNR $$ MPAY $$ MOVPAY_MC $$ MC $$ GPY_ELO $$ E...</td>\n",
       "      <td>CHEAPEST</td>\n",
       "      <td>0.0</td>\n",
       "      <td>ADDRESS_PREFORM_TYPE $$ GUIDED_HELP_TYPE $$ ME...</td>\n",
       "      <td>https://www.ifood.com.br/delivery/brasilia-df/...</td>\n",
       "    </tr>\n",
       "    <tr>\n",
       "      <th>2</th>\n",
       "      <td>False</td>\n",
       "      <td>https://static-images.ifood.com.br/image/uploa...</td>\n",
       "      <td>Bebidas</td>\n",
       "      <td>11.99</td>\n",
       "      <td>70</td>\n",
       "      <td>8.35</td>\n",
       "      <td>5300108</td>\n",
       "      <td>5.0</td>\n",
       "      <td>Toma na Kombi</td>\n",
       "      <td>DNR $$ MPAY $$ MOVPAY_MC $$ MC $$ GPY_ELO $$ R...</td>\n",
       "      <td>MODERATE</td>\n",
       "      <td>0.0</td>\n",
       "      <td>ADDRESS_PREFORM_TYPE $$ CPGN_USER_DISCOUNT_6_L...</td>\n",
       "      <td>https://www.ifood.com.br/delivery/brasilia-df/...</td>\n",
       "    </tr>\n",
       "    <tr>\n",
       "      <th>3</th>\n",
       "      <td>False</td>\n",
       "      <td>https://static-images.ifood.com.br/image/uploa...</td>\n",
       "      <td>Carnes</td>\n",
       "      <td>16.49</td>\n",
       "      <td>63</td>\n",
       "      <td>6.35</td>\n",
       "      <td>5300108</td>\n",
       "      <td>20.0</td>\n",
       "      <td>Churrasquinho do Barriga´s</td>\n",
       "      <td>DNR $$ MPAY $$ MOVPAY_MC $$ MC $$ GPY_ELO $$ E...</td>\n",
       "      <td>CHEAPEST</td>\n",
       "      <td>0.0</td>\n",
       "      <td>ADDRESS_PREFORM_TYPE $$ GUIDED_HELP_TYPE $$ NO...</td>\n",
       "      <td>https://www.ifood.com.br/delivery/brasilia-df/...</td>\n",
       "    </tr>\n",
       "    <tr>\n",
       "      <th>4</th>\n",
       "      <td>False</td>\n",
       "      <td>https://static-images.ifood.com.br/image/uploa...</td>\n",
       "      <td>Brasileira</td>\n",
       "      <td>11.99</td>\n",
       "      <td>58</td>\n",
       "      <td>5.22</td>\n",
       "      <td>5300108</td>\n",
       "      <td>20.0</td>\n",
       "      <td>Prime Restaurante</td>\n",
       "      <td>DNR $$ MPAY $$ MOVPAY_MC $$ MC $$ GPY_ELO $$ E...</td>\n",
       "      <td>CHEAPEST</td>\n",
       "      <td>0.0</td>\n",
       "      <td>ADDRESS_PREFORM_TYPE $$ GUIDED_HELP_TYPE $$ NOVO</td>\n",
       "      <td>https://www.ifood.com.br/delivery/brasilia-df/...</td>\n",
       "    </tr>\n",
       "  </tbody>\n",
       "</table>\n",
       "</div>"
      ],
      "text/plain": [
       "   availableForScheduling                                             avatar  \\\n",
       "0                   False  https://static-images.ifood.com.br/image/uploa...   \n",
       "1                   False  https://static-images.ifood.com.br/image/uploa...   \n",
       "2                   False  https://static-images.ifood.com.br/image/uploa...   \n",
       "3                   False  https://static-images.ifood.com.br/image/uploa...   \n",
       "4                   False  https://static-images.ifood.com.br/image/uploa...   \n",
       "\n",
       "     category  delivery_fee  delivery_time  distance     ibge  \\\n",
       "0     Marmita          3.99             27      1.22  5300108   \n",
       "1        Açaí          7.99             61      4.96  5300108   \n",
       "2     Bebidas         11.99             70      8.35  5300108   \n",
       "3      Carnes         16.49             63      6.35  5300108   \n",
       "4  Brasileira         11.99             58      5.22  5300108   \n",
       "\n",
       "   minimumOrderValue                        name  \\\n",
       "0               10.0        Cantina Arte & Sabor   \n",
       "1               10.0            Raruty Açaí Raiz   \n",
       "2                5.0               Toma na Kombi   \n",
       "3               20.0  Churrasquinho do Barriga´s   \n",
       "4               20.0           Prime Restaurante   \n",
       "\n",
       "                                        paymentCodes price_range  rating  \\\n",
       "0  DNR $$ MPAY $$ MOVPAY_MC $$ MC $$ GPY_ELO $$ E...    CHEAPEST     0.0   \n",
       "1  DNR $$ MPAY $$ MOVPAY_MC $$ MC $$ GPY_ELO $$ E...    CHEAPEST     0.0   \n",
       "2  DNR $$ MPAY $$ MOVPAY_MC $$ MC $$ GPY_ELO $$ R...    MODERATE     0.0   \n",
       "3  DNR $$ MPAY $$ MOVPAY_MC $$ MC $$ GPY_ELO $$ E...    CHEAPEST     0.0   \n",
       "4  DNR $$ MPAY $$ MOVPAY_MC $$ MC $$ GPY_ELO $$ E...    CHEAPEST     0.0   \n",
       "\n",
       "                                                tags  \\\n",
       "0  ADDRESS_PREFORM_TYPE $$ CART::MCHT::100_DELIVE...   \n",
       "1  ADDRESS_PREFORM_TYPE $$ GUIDED_HELP_TYPE $$ ME...   \n",
       "2  ADDRESS_PREFORM_TYPE $$ CPGN_USER_DISCOUNT_6_L...   \n",
       "3  ADDRESS_PREFORM_TYPE $$ GUIDED_HELP_TYPE $$ NO...   \n",
       "4   ADDRESS_PREFORM_TYPE $$ GUIDED_HELP_TYPE $$ NOVO   \n",
       "\n",
       "                                                 url  \n",
       "0  https://www.ifood.com.br/delivery/brasilia-df/...  \n",
       "1  https://www.ifood.com.br/delivery/brasilia-df/...  \n",
       "2  https://www.ifood.com.br/delivery/brasilia-df/...  \n",
       "3  https://www.ifood.com.br/delivery/brasilia-df/...  \n",
       "4  https://www.ifood.com.br/delivery/brasilia-df/...  "
      ]
     },
     "execution_count": 30,
     "metadata": {},
     "output_type": "execute_result"
    }
   ],
   "source": [
    "df.head(5)"
   ]
  },
  {
   "cell_type": "code",
   "execution_count": 31,
   "id": "3209cc34",
   "metadata": {},
   "outputs": [
    {
     "data": {
      "text/plain": [
       "delivery_fee         1.862626e+01\n",
       "delivery_time        3.866232e+02\n",
       "distance             4.668904e+03\n",
       "minimumOrderValue    2.466997e+10\n",
       "rating               5.226266e+00\n",
       "dtype: float64"
      ]
     },
     "execution_count": 31,
     "metadata": {},
     "output_type": "execute_result"
    }
   ],
   "source": [
    "#.var() é a variancia  \n",
    "df[numericas].var()"
   ]
  },
  {
   "cell_type": "code",
   "execution_count": 32,
   "id": "37b8f249",
   "metadata": {},
   "outputs": [
    {
     "data": {
      "text/plain": [
       "delivery_fee              4.315815\n",
       "delivery_time            19.662736\n",
       "distance                 68.329379\n",
       "minimumOrderValue    157066.758573\n",
       "rating                    2.286103\n",
       "dtype: float64"
      ]
     },
     "execution_count": 32,
     "metadata": {},
     "output_type": "execute_result"
    }
   ],
   "source": [
    "#.std() é o desvio padrao  \n",
    "df[numericas].std()"
   ]
  },
  {
   "cell_type": "code",
   "execution_count": 33,
   "id": "76d9bf46",
   "metadata": {},
   "outputs": [
    {
     "name": "stdout",
     "output_type": "stream",
     "text": [
      "Variância: \n",
      "delivery_fee         1.862626e+01\n",
      "delivery_time        3.866232e+02\n",
      "distance             4.668904e+03\n",
      "minimumOrderValue    2.466997e+10\n",
      "rating               5.226266e+00\n",
      "dtype: float64\n",
      "\n",
      "Desvio Padrão\n",
      "delivery_fee              4.315815\n",
      "delivery_time            19.662736\n",
      "distance                 68.329379\n",
      "minimumOrderValue    157066.758573\n",
      "rating                    2.286103\n",
      "dtype: float64\n"
     ]
    }
   ],
   "source": [
    "#calculando a variância e o desvio padrao para cada coluna \n",
    "variancia = df[numericas].var()\n",
    "desvio_padrao = df[numericas].std()\n",
    "print(\"Variância: \")\n",
    "print(variancia)\n",
    "print(\"\\nDesvio Padrão\")\n",
    "print(desvio_padrao)"
   ]
  },
  {
   "cell_type": "code",
   "execution_count": 34,
   "id": "3a43739b",
   "metadata": {},
   "outputs": [
    {
     "data": {
      "text/html": [
       "<div>\n",
       "<style scoped>\n",
       "    .dataframe tbody tr th:only-of-type {\n",
       "        vertical-align: middle;\n",
       "    }\n",
       "\n",
       "    .dataframe tbody tr th {\n",
       "        vertical-align: top;\n",
       "    }\n",
       "\n",
       "    .dataframe thead th {\n",
       "        text-align: right;\n",
       "    }\n",
       "</style>\n",
       "<table border=\"1\" class=\"dataframe\">\n",
       "  <thead>\n",
       "    <tr style=\"text-align: right;\">\n",
       "      <th></th>\n",
       "      <th>delivery_fee</th>\n",
       "      <th>delivery_time</th>\n",
       "      <th>distance</th>\n",
       "      <th>minimumOrderValue</th>\n",
       "      <th>rating</th>\n",
       "    </tr>\n",
       "  </thead>\n",
       "  <tbody>\n",
       "    <tr>\n",
       "      <th>count</th>\n",
       "      <td>406399.000000</td>\n",
       "      <td>406399.000000</td>\n",
       "      <td>406399.000000</td>\n",
       "      <td>4.063990e+05</td>\n",
       "      <td>406399.000000</td>\n",
       "    </tr>\n",
       "    <tr>\n",
       "      <th>mean</th>\n",
       "      <td>6.804577</td>\n",
       "      <td>47.432747</td>\n",
       "      <td>4.219752</td>\n",
       "      <td>2.768909e+02</td>\n",
       "      <td>2.522241</td>\n",
       "    </tr>\n",
       "    <tr>\n",
       "      <th>std</th>\n",
       "      <td>4.315815</td>\n",
       "      <td>19.662736</td>\n",
       "      <td>68.329379</td>\n",
       "      <td>1.570668e+05</td>\n",
       "      <td>2.286103</td>\n",
       "    </tr>\n",
       "    <tr>\n",
       "      <th>min</th>\n",
       "      <td>0.000000</td>\n",
       "      <td>-1.000000</td>\n",
       "      <td>0.000000</td>\n",
       "      <td>0.000000e+00</td>\n",
       "      <td>0.000000</td>\n",
       "    </tr>\n",
       "    <tr>\n",
       "      <th>25%</th>\n",
       "      <td>4.000000</td>\n",
       "      <td>35.000000</td>\n",
       "      <td>1.750000</td>\n",
       "      <td>1.000000e+01</td>\n",
       "      <td>0.000000</td>\n",
       "    </tr>\n",
       "    <tr>\n",
       "      <th>50%</th>\n",
       "      <td>6.000000</td>\n",
       "      <td>45.000000</td>\n",
       "      <td>3.080000</td>\n",
       "      <td>1.500000e+01</td>\n",
       "      <td>3.958900</td>\n",
       "    </tr>\n",
       "    <tr>\n",
       "      <th>75%</th>\n",
       "      <td>9.490000</td>\n",
       "      <td>60.000000</td>\n",
       "      <td>4.830000</td>\n",
       "      <td>2.000000e+01</td>\n",
       "      <td>4.718750</td>\n",
       "    </tr>\n",
       "    <tr>\n",
       "      <th>max</th>\n",
       "      <td>35.000000</td>\n",
       "      <td>5050.000000</td>\n",
       "      <td>11810.190000</td>\n",
       "      <td>1.000000e+08</td>\n",
       "      <td>5.000000</td>\n",
       "    </tr>\n",
       "  </tbody>\n",
       "</table>\n",
       "</div>"
      ],
      "text/plain": [
       "        delivery_fee  delivery_time       distance  minimumOrderValue  \\\n",
       "count  406399.000000  406399.000000  406399.000000       4.063990e+05   \n",
       "mean        6.804577      47.432747       4.219752       2.768909e+02   \n",
       "std         4.315815      19.662736      68.329379       1.570668e+05   \n",
       "min         0.000000      -1.000000       0.000000       0.000000e+00   \n",
       "25%         4.000000      35.000000       1.750000       1.000000e+01   \n",
       "50%         6.000000      45.000000       3.080000       1.500000e+01   \n",
       "75%         9.490000      60.000000       4.830000       2.000000e+01   \n",
       "max        35.000000    5050.000000   11810.190000       1.000000e+08   \n",
       "\n",
       "              rating  \n",
       "count  406399.000000  \n",
       "mean        2.522241  \n",
       "std         2.286103  \n",
       "min         0.000000  \n",
       "25%         0.000000  \n",
       "50%         3.958900  \n",
       "75%         4.718750  \n",
       "max         5.000000  "
      ]
     },
     "execution_count": 34,
     "metadata": {},
     "output_type": "execute_result"
    }
   ],
   "source": [
    "df[numericas].describe()"
   ]
  },
  {
   "cell_type": "markdown",
   "id": "c81837c4",
   "metadata": {},
   "source": [
    "TRABALHANDO COM BOXPLOT"
   ]
  },
  {
   "cell_type": "code",
   "execution_count": 35,
   "id": "7348b418",
   "metadata": {},
   "outputs": [
    {
     "name": "stderr",
     "output_type": "stream",
     "text": [
      "C:\\Users\\thili\\AppData\\Local\\Temp\\ipykernel_2708\\853855592.py:2: MatplotlibDeprecationWarning: The 'labels' parameter of boxplot() has been renamed 'tick_labels' since Matplotlib 3.9; support for the old name will be dropped in 3.11.\n",
      "  plt.boxplot(df['delivery_time'], labels =['Tempo de Entrega'])\n"
     ]
    },
    {
     "data": {
      "text/plain": [
       "Text(0, 0.5, 'Valores')"
      ]
     },
     "execution_count": 35,
     "metadata": {},
     "output_type": "execute_result"
    },
    {
     "data": {
      "image/png": "[encoded data removed]",
      "text/plain": [
       "<Figure size 800x600 with 1 Axes>"
      ]
     },
     "metadata": {},
     "output_type": "display_data"
    }
   ],
   "source": [
    "plt.figure(figsize=(8,6))\n",
    "plt.boxplot(df['delivery_time'], labels =['Tempo de Entrega'])\n",
    "plt.title('Boxplot Tempo de Entrega')\n",
    "plt.ylabel('Valores')\n"
   ]
  },
  {
   "cell_type": "code",
   "execution_count": 36,
   "id": "c87a3fe8",
   "metadata": {},
   "outputs": [],
   "source": [
    "#precisamos retirar os outliers\n",
    "#vamos usar o método interquartil\n",
    "#.quantile() eu determino se quero 0.25 (Q1) ou 0.75 (Q3)\n",
    "Q1 = df['delivery_time'].quantile(0.25)\n",
    "Q3 = df['delivery_time'].quantile(0.75)\n",
    "IQR = Q3 - Q1"
   ]
  },
  {
   "cell_type": "code",
   "execution_count": 37,
   "id": "8b1ddee8",
   "metadata": {},
   "outputs": [],
   "source": [
    "df_out =df[((df['delivery_time'] < (Q1 - 1.5 * IQR)) | (df['delivery_time'] > (Q3 + 1.5 * IQR)))] "
   ]
  },
  {
   "cell_type": "code",
   "execution_count": 38,
   "id": "90e2711a",
   "metadata": {},
   "outputs": [
    {
     "data": {
      "text/html": [
       "<div>\n",
       "<style scoped>\n",
       "    .dataframe tbody tr th:only-of-type {\n",
       "        vertical-align: middle;\n",
       "    }\n",
       "\n",
       "    .dataframe tbody tr th {\n",
       "        vertical-align: top;\n",
       "    }\n",
       "\n",
       "    .dataframe thead th {\n",
       "        text-align: right;\n",
       "    }\n",
       "</style>\n",
       "<table border=\"1\" class=\"dataframe\">\n",
       "  <thead>\n",
       "    <tr style=\"text-align: right;\">\n",
       "      <th></th>\n",
       "      <th>availableForScheduling</th>\n",
       "      <th>avatar</th>\n",
       "      <th>category</th>\n",
       "      <th>delivery_fee</th>\n",
       "      <th>delivery_time</th>\n",
       "      <th>distance</th>\n",
       "      <th>ibge</th>\n",
       "      <th>minimumOrderValue</th>\n",
       "      <th>name</th>\n",
       "      <th>paymentCodes</th>\n",
       "      <th>price_range</th>\n",
       "      <th>rating</th>\n",
       "      <th>tags</th>\n",
       "      <th>url</th>\n",
       "    </tr>\n",
       "  </thead>\n",
       "  <tbody>\n",
       "    <tr>\n",
       "      <th>29</th>\n",
       "      <td>False</td>\n",
       "      <td>https://static-images.ifood.com.br/image/uploa...</td>\n",
       "      <td>Mercado</td>\n",
       "      <td>15.0</td>\n",
       "      <td>120</td>\n",
       "      <td>13.21</td>\n",
       "      <td>5300108</td>\n",
       "      <td>50.0</td>\n",
       "      <td>Feirinha Delivery de Frutas &amp; Verduras 2</td>\n",
       "      <td>DNR $$ MPAY $$ MOVPAY_MC $$ RAM $$ MC $$ GPY_E...</td>\n",
       "      <td>MOST_EXPENSIVE</td>\n",
       "      <td>0.0</td>\n",
       "      <td>ADDRESS_PREFORM_TYPE $$ GUIDED_HELP_TYPE $$ LO...</td>\n",
       "      <td>https://www.ifood.com.br/delivery/brasilia-df/...</td>\n",
       "    </tr>\n",
       "    <tr>\n",
       "      <th>188</th>\n",
       "      <td>False</td>\n",
       "      <td>https://static-images.ifood.com.br/image/uploa...</td>\n",
       "      <td>Lanches</td>\n",
       "      <td>10.0</td>\n",
       "      <td>100</td>\n",
       "      <td>9.98</td>\n",
       "      <td>1302603</td>\n",
       "      <td>0.0</td>\n",
       "      <td>Sir. Batata</td>\n",
       "      <td>DNR $$ MPAY $$ MOVPAY_MC $$ MC $$ GPY_ELO $$ R...</td>\n",
       "      <td>CHEAP</td>\n",
       "      <td>0.0</td>\n",
       "      <td>ADDRESS_PREFORM_TYPE $$ BOMEBARATO_CUPOM $$ GU...</td>\n",
       "      <td>https://www.ifood.com.br/delivery/manaus-am/si...</td>\n",
       "    </tr>\n",
       "    <tr>\n",
       "      <th>330</th>\n",
       "      <td>False</td>\n",
       "      <td>https://static-images.ifood.com.br/image/uploa...</td>\n",
       "      <td>Saudável</td>\n",
       "      <td>12.0</td>\n",
       "      <td>120</td>\n",
       "      <td>4.89</td>\n",
       "      <td>3304557</td>\n",
       "      <td>120.0</td>\n",
       "      <td>LIFE FIT</td>\n",
       "      <td>DNR $$ MPAY $$ MOVPAY_MC $$ RAM $$ MC $$ GPY_E...</td>\n",
       "      <td>EXPENSIVE</td>\n",
       "      <td>0.0</td>\n",
       "      <td>ADDRESS_PREFORM_TYPE $$ FIDELIDADE_SAUDAVEIS_D...</td>\n",
       "      <td>https://www.ifood.com.br/delivery/rio-de-janei...</td>\n",
       "    </tr>\n",
       "  </tbody>\n",
       "</table>\n",
       "</div>"
      ],
      "text/plain": [
       "     availableForScheduling  \\\n",
       "29                    False   \n",
       "188                   False   \n",
       "330                   False   \n",
       "\n",
       "                                                avatar  category  \\\n",
       "29   https://static-images.ifood.com.br/image/uploa...   Mercado   \n",
       "188  https://static-images.ifood.com.br/image/uploa...   Lanches   \n",
       "330  https://static-images.ifood.com.br/image/uploa...  Saudável   \n",
       "\n",
       "     delivery_fee  delivery_time  distance     ibge  minimumOrderValue  \\\n",
       "29           15.0            120     13.21  5300108               50.0   \n",
       "188          10.0            100      9.98  1302603                0.0   \n",
       "330          12.0            120      4.89  3304557              120.0   \n",
       "\n",
       "                                         name  \\\n",
       "29   Feirinha Delivery de Frutas & Verduras 2   \n",
       "188                               Sir. Batata   \n",
       "330                                  LIFE FIT   \n",
       "\n",
       "                                          paymentCodes     price_range  \\\n",
       "29   DNR $$ MPAY $$ MOVPAY_MC $$ RAM $$ MC $$ GPY_E...  MOST_EXPENSIVE   \n",
       "188  DNR $$ MPAY $$ MOVPAY_MC $$ MC $$ GPY_ELO $$ R...           CHEAP   \n",
       "330  DNR $$ MPAY $$ MOVPAY_MC $$ RAM $$ MC $$ GPY_E...       EXPENSIVE   \n",
       "\n",
       "     rating                                               tags  \\\n",
       "29      0.0  ADDRESS_PREFORM_TYPE $$ GUIDED_HELP_TYPE $$ LO...   \n",
       "188     0.0  ADDRESS_PREFORM_TYPE $$ BOMEBARATO_CUPOM $$ GU...   \n",
       "330     0.0  ADDRESS_PREFORM_TYPE $$ FIDELIDADE_SAUDAVEIS_D...   \n",
       "\n",
       "                                                   url  \n",
       "29   https://www.ifood.com.br/delivery/brasilia-df/...  \n",
       "188  https://www.ifood.com.br/delivery/manaus-am/si...  \n",
       "330  https://www.ifood.com.br/delivery/rio-de-janei...  "
      ]
     },
     "execution_count": 38,
     "metadata": {},
     "output_type": "execute_result"
    }
   ],
   "source": [
    "df_out.head(3)"
   ]
  },
  {
   "cell_type": "code",
   "execution_count": 39,
   "id": "17ae9732",
   "metadata": {},
   "outputs": [
    {
     "name": "stdout",
     "output_type": "stream",
     "text": [
      "Quantidade de registros na base: 406399\n"
     ]
    }
   ],
   "source": [
    "print(f'Quantidade de registros na base: {len(df)}')"
   ]
  },
  {
   "cell_type": "code",
   "execution_count": 40,
   "id": "771d4efd",
   "metadata": {},
   "outputs": [
    {
     "name": "stdout",
     "output_type": "stream",
     "text": [
      "Quantidade de registros de outliers na base: 3857\n",
      "Percentual de outliers na base: 1.0%\n"
     ]
    }
   ],
   "source": [
    "print(f'Quantidade de registros de outliers na base: {len(df_out)}')\n",
    "print(f'Percentual de outliers na base: {np.round(100*len(df_out)/len(df),0)}%')"
   ]
  },
  {
   "cell_type": "code",
   "execution_count": 41,
   "id": "685fc155",
   "metadata": {},
   "outputs": [],
   "source": [
    "#usando as mesmas condicionais que fizemos para gerar o df_out, para com o sinal de ~ para salvarmos somente as condições \n",
    "#que retornaram como falsas, \"o ~ pegamos o inverso do que pedimos para a função\"\n",
    "df_sem_out = df[~((df['delivery_time']<(Q1 - 1.5 * IQR)) | (df['delivery_time']>(Q3 + 1.5 * IQR)))]"
   ]
  },
  {
   "cell_type": "code",
   "execution_count": 42,
   "id": "eb7a450f",
   "metadata": {},
   "outputs": [
    {
     "name": "stderr",
     "output_type": "stream",
     "text": [
      "C:\\Users\\thili\\AppData\\Local\\Temp\\ipykernel_2708\\4166583103.py:3: MatplotlibDeprecationWarning: The 'labels' parameter of boxplot() has been renamed 'tick_labels' since Matplotlib 3.9; support for the old name will be dropped in 3.11.\n",
      "  plt.boxplot(df_sem_out['delivery_time'], labels =['Tempo de Entrega'])\n"
     ]
    },
    {
     "data": {
      "text/plain": [
       "Text(0, 0.5, 'Valores')"
      ]
     },
     "execution_count": 42,
     "metadata": {},
     "output_type": "execute_result"
    },
    {
     "data": {
      "image/png": "[encoded data removed]",
      "text/plain": [
       "<Figure size 800x600 with 1 Axes>"
      ]
     },
     "metadata": {},
     "output_type": "display_data"
    }
   ],
   "source": [
    "#gerando agora o grafico de bloxplot com o df_sem_out \n",
    "plt.figure(figsize=(8,6))\n",
    "plt.boxplot(df_sem_out['delivery_time'], labels =['Tempo de Entrega'])\n",
    "plt.title('Boxplot Tempo de Entrega')\n",
    "plt.ylabel('Valores')"
   ]
  },
  {
   "cell_type": "markdown",
   "id": "27f1fa01",
   "metadata": {},
   "source": [
    "RETIRANDO OUTLIERS  "
   ]
  },
  {
   "cell_type": "code",
   "execution_count": null,
   "id": "0afbb83f",
   "metadata": {},
   "outputs": [
    {
     "data": {
      "text/plain": [
       "['delivery_fee',\n",
       " 'delivery_time',\n",
       " 'distance',\n",
       " 'ibge',\n",
       " 'minimumOrderValue',\n",
       " 'rating']"
      ]
     },
     "execution_count": 44,
     "metadata": {},
     "output_type": "execute_result"
    }
   ],
   "source": [
    "#mais uma vez declarando a variavel numerica e criando uma listas, com todas as variaveis numericas do meu df  \n",
    "numericas = df.select_dtypes(include=['number']).columns.tolist()\n",
    "numericas"
   ]
  },
  {
   "cell_type": "code",
   "execution_count": 45,
   "id": "f3796c9a",
   "metadata": {},
   "outputs": [
    {
     "data": {
      "text/plain": [
       "'ibge'"
      ]
     },
     "execution_count": 45,
     "metadata": {},
     "output_type": "execute_result"
    }
   ],
   "source": [
    "numericas.pop(3)"
   ]
  },
  {
   "cell_type": "code",
   "execution_count": 46,
   "id": "0bf9282c",
   "metadata": {},
   "outputs": [
    {
     "data": {
      "text/plain": [
       "delivery_fee          4.00\n",
       "delivery_time        35.00\n",
       "distance              1.75\n",
       "minimumOrderValue    10.00\n",
       "rating                0.00\n",
       "Name: 0.25, dtype: float64"
      ]
     },
     "execution_count": 46,
     "metadata": {},
     "output_type": "execute_result"
    }
   ],
   "source": [
    "df[numericas].quantile(0.25)"
   ]
  },
  {
   "cell_type": "code",
   "execution_count": 47,
   "id": "df1de78a",
   "metadata": {},
   "outputs": [
    {
     "data": {
      "text/plain": [
       "delivery_fee          9.49000\n",
       "delivery_time        60.00000\n",
       "distance              4.83000\n",
       "minimumOrderValue    20.00000\n",
       "rating                4.71875\n",
       "Name: 0.75, dtype: float64"
      ]
     },
     "execution_count": 47,
     "metadata": {},
     "output_type": "execute_result"
    }
   ],
   "source": [
    "df[numericas].quantile(0.75)"
   ]
  },
  {
   "cell_type": "code",
   "execution_count": 48,
   "id": "6829a666",
   "metadata": {},
   "outputs": [
    {
     "data": {
      "text/plain": [
       "delivery_fee          6.0000\n",
       "delivery_time        45.0000\n",
       "distance              3.0800\n",
       "minimumOrderValue    15.0000\n",
       "rating                3.9589\n",
       "dtype: float64"
      ]
     },
     "execution_count": 48,
     "metadata": {},
     "output_type": "execute_result"
    }
   ],
   "source": [
    "df[numericas].median()"
   ]
  },
  {
   "cell_type": "code",
   "execution_count": null,
   "id": "30096cf7",
   "metadata": {},
   "outputs": [
    {
     "data": {
      "text/plain": [
       "delivery_fee          5.49000\n",
       "delivery_time        25.00000\n",
       "distance              3.08000\n",
       "minimumOrderValue    10.00000\n",
       "rating                4.71875\n",
       "dtype: float64"
      ]
     },
     "execution_count": 61,
     "metadata": {},
     "output_type": "execute_result"
    }
   ],
   "source": [
    "#faz o calculo de forma geral   \n",
    "Q1 = df[numericas].quantile(0.25)\n",
    "Q3 = df[numericas].quantile(0.75)\n",
    "mediana = df[numericas].median()\n",
    "IQR = Q3 - Q1\n",
    "IQR"
   ]
  },
  {
   "cell_type": "code",
   "execution_count": 56,
   "id": "3996098b",
   "metadata": {},
   "outputs": [
    {
     "data": {
      "text/html": [
       "<div>\n",
       "<style scoped>\n",
       "    .dataframe tbody tr th:only-of-type {\n",
       "        vertical-align: middle;\n",
       "    }\n",
       "\n",
       "    .dataframe tbody tr th {\n",
       "        vertical-align: top;\n",
       "    }\n",
       "\n",
       "    .dataframe thead th {\n",
       "        text-align: right;\n",
       "    }\n",
       "</style>\n",
       "<table border=\"1\" class=\"dataframe\">\n",
       "  <thead>\n",
       "    <tr style=\"text-align: right;\">\n",
       "      <th></th>\n",
       "      <th>availableForScheduling</th>\n",
       "      <th>avatar</th>\n",
       "      <th>category</th>\n",
       "      <th>delivery_fee</th>\n",
       "      <th>delivery_time</th>\n",
       "      <th>distance</th>\n",
       "      <th>ibge</th>\n",
       "      <th>minimumOrderValue</th>\n",
       "      <th>name</th>\n",
       "      <th>paymentCodes</th>\n",
       "      <th>price_range</th>\n",
       "      <th>rating</th>\n",
       "      <th>tags</th>\n",
       "      <th>url</th>\n",
       "    </tr>\n",
       "  </thead>\n",
       "  <tbody>\n",
       "    <tr>\n",
       "      <th>0</th>\n",
       "      <td>NaN</td>\n",
       "      <td>NaN</td>\n",
       "      <td>NaN</td>\n",
       "      <td>NaN</td>\n",
       "      <td>NaN</td>\n",
       "      <td>NaN</td>\n",
       "      <td>NaN</td>\n",
       "      <td>NaN</td>\n",
       "      <td>NaN</td>\n",
       "      <td>NaN</td>\n",
       "      <td>NaN</td>\n",
       "      <td>NaN</td>\n",
       "      <td>NaN</td>\n",
       "      <td>NaN</td>\n",
       "    </tr>\n",
       "    <tr>\n",
       "      <th>1</th>\n",
       "      <td>NaN</td>\n",
       "      <td>NaN</td>\n",
       "      <td>NaN</td>\n",
       "      <td>NaN</td>\n",
       "      <td>NaN</td>\n",
       "      <td>NaN</td>\n",
       "      <td>NaN</td>\n",
       "      <td>NaN</td>\n",
       "      <td>NaN</td>\n",
       "      <td>NaN</td>\n",
       "      <td>NaN</td>\n",
       "      <td>NaN</td>\n",
       "      <td>NaN</td>\n",
       "      <td>NaN</td>\n",
       "    </tr>\n",
       "    <tr>\n",
       "      <th>2</th>\n",
       "      <td>NaN</td>\n",
       "      <td>NaN</td>\n",
       "      <td>NaN</td>\n",
       "      <td>NaN</td>\n",
       "      <td>NaN</td>\n",
       "      <td>NaN</td>\n",
       "      <td>NaN</td>\n",
       "      <td>NaN</td>\n",
       "      <td>NaN</td>\n",
       "      <td>NaN</td>\n",
       "      <td>NaN</td>\n",
       "      <td>NaN</td>\n",
       "      <td>NaN</td>\n",
       "      <td>NaN</td>\n",
       "    </tr>\n",
       "    <tr>\n",
       "      <th>3</th>\n",
       "      <td>NaN</td>\n",
       "      <td>NaN</td>\n",
       "      <td>NaN</td>\n",
       "      <td>NaN</td>\n",
       "      <td>NaN</td>\n",
       "      <td>NaN</td>\n",
       "      <td>NaN</td>\n",
       "      <td>NaN</td>\n",
       "      <td>NaN</td>\n",
       "      <td>NaN</td>\n",
       "      <td>NaN</td>\n",
       "      <td>NaN</td>\n",
       "      <td>NaN</td>\n",
       "      <td>NaN</td>\n",
       "    </tr>\n",
       "    <tr>\n",
       "      <th>4</th>\n",
       "      <td>NaN</td>\n",
       "      <td>NaN</td>\n",
       "      <td>NaN</td>\n",
       "      <td>NaN</td>\n",
       "      <td>NaN</td>\n",
       "      <td>NaN</td>\n",
       "      <td>NaN</td>\n",
       "      <td>NaN</td>\n",
       "      <td>NaN</td>\n",
       "      <td>NaN</td>\n",
       "      <td>NaN</td>\n",
       "      <td>NaN</td>\n",
       "      <td>NaN</td>\n",
       "      <td>NaN</td>\n",
       "    </tr>\n",
       "    <tr>\n",
       "      <th>...</th>\n",
       "      <td>...</td>\n",
       "      <td>...</td>\n",
       "      <td>...</td>\n",
       "      <td>...</td>\n",
       "      <td>...</td>\n",
       "      <td>...</td>\n",
       "      <td>...</td>\n",
       "      <td>...</td>\n",
       "      <td>...</td>\n",
       "      <td>...</td>\n",
       "      <td>...</td>\n",
       "      <td>...</td>\n",
       "      <td>...</td>\n",
       "      <td>...</td>\n",
       "    </tr>\n",
       "    <tr>\n",
       "      <th>406394</th>\n",
       "      <td>NaN</td>\n",
       "      <td>NaN</td>\n",
       "      <td>NaN</td>\n",
       "      <td>NaN</td>\n",
       "      <td>NaN</td>\n",
       "      <td>NaN</td>\n",
       "      <td>NaN</td>\n",
       "      <td>NaN</td>\n",
       "      <td>NaN</td>\n",
       "      <td>NaN</td>\n",
       "      <td>NaN</td>\n",
       "      <td>NaN</td>\n",
       "      <td>NaN</td>\n",
       "      <td>NaN</td>\n",
       "    </tr>\n",
       "    <tr>\n",
       "      <th>406395</th>\n",
       "      <td>NaN</td>\n",
       "      <td>NaN</td>\n",
       "      <td>NaN</td>\n",
       "      <td>NaN</td>\n",
       "      <td>NaN</td>\n",
       "      <td>NaN</td>\n",
       "      <td>NaN</td>\n",
       "      <td>NaN</td>\n",
       "      <td>NaN</td>\n",
       "      <td>NaN</td>\n",
       "      <td>NaN</td>\n",
       "      <td>NaN</td>\n",
       "      <td>NaN</td>\n",
       "      <td>NaN</td>\n",
       "    </tr>\n",
       "    <tr>\n",
       "      <th>406396</th>\n",
       "      <td>NaN</td>\n",
       "      <td>NaN</td>\n",
       "      <td>NaN</td>\n",
       "      <td>NaN</td>\n",
       "      <td>NaN</td>\n",
       "      <td>NaN</td>\n",
       "      <td>NaN</td>\n",
       "      <td>NaN</td>\n",
       "      <td>NaN</td>\n",
       "      <td>NaN</td>\n",
       "      <td>NaN</td>\n",
       "      <td>NaN</td>\n",
       "      <td>NaN</td>\n",
       "      <td>NaN</td>\n",
       "    </tr>\n",
       "    <tr>\n",
       "      <th>406397</th>\n",
       "      <td>NaN</td>\n",
       "      <td>NaN</td>\n",
       "      <td>NaN</td>\n",
       "      <td>NaN</td>\n",
       "      <td>NaN</td>\n",
       "      <td>NaN</td>\n",
       "      <td>NaN</td>\n",
       "      <td>NaN</td>\n",
       "      <td>NaN</td>\n",
       "      <td>NaN</td>\n",
       "      <td>NaN</td>\n",
       "      <td>NaN</td>\n",
       "      <td>NaN</td>\n",
       "      <td>NaN</td>\n",
       "    </tr>\n",
       "    <tr>\n",
       "      <th>406398</th>\n",
       "      <td>NaN</td>\n",
       "      <td>NaN</td>\n",
       "      <td>NaN</td>\n",
       "      <td>NaN</td>\n",
       "      <td>NaN</td>\n",
       "      <td>NaN</td>\n",
       "      <td>NaN</td>\n",
       "      <td>NaN</td>\n",
       "      <td>NaN</td>\n",
       "      <td>NaN</td>\n",
       "      <td>NaN</td>\n",
       "      <td>NaN</td>\n",
       "      <td>NaN</td>\n",
       "      <td>NaN</td>\n",
       "    </tr>\n",
       "  </tbody>\n",
       "</table>\n",
       "<p>406399 rows × 14 columns</p>\n",
       "</div>"
      ],
      "text/plain": [
       "       availableForScheduling avatar category  delivery_fee  delivery_time  \\\n",
       "0                         NaN    NaN      NaN           NaN            NaN   \n",
       "1                         NaN    NaN      NaN           NaN            NaN   \n",
       "2                         NaN    NaN      NaN           NaN            NaN   \n",
       "3                         NaN    NaN      NaN           NaN            NaN   \n",
       "4                         NaN    NaN      NaN           NaN            NaN   \n",
       "...                       ...    ...      ...           ...            ...   \n",
       "406394                    NaN    NaN      NaN           NaN            NaN   \n",
       "406395                    NaN    NaN      NaN           NaN            NaN   \n",
       "406396                    NaN    NaN      NaN           NaN            NaN   \n",
       "406397                    NaN    NaN      NaN           NaN            NaN   \n",
       "406398                    NaN    NaN      NaN           NaN            NaN   \n",
       "\n",
       "        distance  ibge  minimumOrderValue name paymentCodes price_range  \\\n",
       "0            NaN   NaN                NaN  NaN          NaN         NaN   \n",
       "1            NaN   NaN                NaN  NaN          NaN         NaN   \n",
       "2            NaN   NaN                NaN  NaN          NaN         NaN   \n",
       "3            NaN   NaN                NaN  NaN          NaN         NaN   \n",
       "4            NaN   NaN                NaN  NaN          NaN         NaN   \n",
       "...          ...   ...                ...  ...          ...         ...   \n",
       "406394       NaN   NaN                NaN  NaN          NaN         NaN   \n",
       "406395       NaN   NaN                NaN  NaN          NaN         NaN   \n",
       "406396       NaN   NaN                NaN  NaN          NaN         NaN   \n",
       "406397       NaN   NaN                NaN  NaN          NaN         NaN   \n",
       "406398       NaN   NaN                NaN  NaN          NaN         NaN   \n",
       "\n",
       "        rating tags  url  \n",
       "0          NaN  NaN  NaN  \n",
       "1          NaN  NaN  NaN  \n",
       "2          NaN  NaN  NaN  \n",
       "3          NaN  NaN  NaN  \n",
       "4          NaN  NaN  NaN  \n",
       "...        ...  ...  ...  \n",
       "406394     NaN  NaN  NaN  \n",
       "406395     NaN  NaN  NaN  \n",
       "406396     NaN  NaN  NaN  \n",
       "406397     NaN  NaN  NaN  \n",
       "406398     NaN  NaN  NaN  \n",
       "\n",
       "[406399 rows x 14 columns]"
      ]
     },
     "execution_count": 56,
     "metadata": {},
     "output_type": "execute_result"
    }
   ],
   "source": [
    "df[(df[numericas]< (Q1 - 1.5 * IQR))]"
   ]
  },
  {
   "cell_type": "code",
   "execution_count": 75,
   "id": "358c2b19",
   "metadata": {},
   "outputs": [
    {
     "data": {
      "text/html": [
       "<div>\n",
       "<style scoped>\n",
       "    .dataframe tbody tr th:only-of-type {\n",
       "        vertical-align: middle;\n",
       "    }\n",
       "\n",
       "    .dataframe tbody tr th {\n",
       "        vertical-align: top;\n",
       "    }\n",
       "\n",
       "    .dataframe thead th {\n",
       "        text-align: right;\n",
       "    }\n",
       "</style>\n",
       "<table border=\"1\" class=\"dataframe\">\n",
       "  <thead>\n",
       "    <tr style=\"text-align: right;\">\n",
       "      <th></th>\n",
       "      <th>availableForScheduling</th>\n",
       "      <th>avatar</th>\n",
       "      <th>category</th>\n",
       "      <th>delivery_fee</th>\n",
       "      <th>delivery_time</th>\n",
       "      <th>distance</th>\n",
       "      <th>ibge</th>\n",
       "      <th>minimumOrderValue</th>\n",
       "      <th>name</th>\n",
       "      <th>paymentCodes</th>\n",
       "      <th>price_range</th>\n",
       "      <th>rating</th>\n",
       "      <th>tags</th>\n",
       "      <th>url</th>\n",
       "    </tr>\n",
       "  </thead>\n",
       "  <tbody>\n",
       "    <tr>\n",
       "      <th>24</th>\n",
       "      <td>False</td>\n",
       "      <td>https://static-images.ifood.com.br/image/uploa...</td>\n",
       "      <td>Lanches</td>\n",
       "      <td>9.0</td>\n",
       "      <td>80</td>\n",
       "      <td>9.53</td>\n",
       "      <td>5300108</td>\n",
       "      <td>0.0</td>\n",
       "      <td>Kelly Crepes &amp; Massas</td>\n",
       "      <td>DNR $$ MPAY $$ MOVPAY_MC $$ MC $$ GPY_ELO $$ R...</td>\n",
       "      <td>CHEAPEST</td>\n",
       "      <td>0.0</td>\n",
       "      <td>ADDRESS_PREFORM_TYPE $$ GUIDED_HELP_TYPE $$ HA...</td>\n",
       "      <td>https://www.ifood.com.br/delivery/brasilia-df/...</td>\n",
       "    </tr>\n",
       "    <tr>\n",
       "      <th>29</th>\n",
       "      <td>False</td>\n",
       "      <td>https://static-images.ifood.com.br/image/uploa...</td>\n",
       "      <td>Mercado</td>\n",
       "      <td>15.0</td>\n",
       "      <td>120</td>\n",
       "      <td>13.21</td>\n",
       "      <td>5300108</td>\n",
       "      <td>50.0</td>\n",
       "      <td>Feirinha Delivery de Frutas &amp; Verduras 2</td>\n",
       "      <td>DNR $$ MPAY $$ MOVPAY_MC $$ RAM $$ MC $$ GPY_E...</td>\n",
       "      <td>MOST_EXPENSIVE</td>\n",
       "      <td>0.0</td>\n",
       "      <td>ADDRESS_PREFORM_TYPE $$ GUIDED_HELP_TYPE $$ LO...</td>\n",
       "      <td>https://www.ifood.com.br/delivery/brasilia-df/...</td>\n",
       "    </tr>\n",
       "    <tr>\n",
       "      <th>36</th>\n",
       "      <td>False</td>\n",
       "      <td>https://static-images.ifood.com.br/image/uploa...</td>\n",
       "      <td>Lanches</td>\n",
       "      <td>12.0</td>\n",
       "      <td>90</td>\n",
       "      <td>10.88</td>\n",
       "      <td>5300108</td>\n",
       "      <td>10.0</td>\n",
       "      <td>Tapioca da Zi</td>\n",
       "      <td>DNR $$ MPAY $$ MOVPAY_MC $$ MC $$ GPY_ELO $$ R...</td>\n",
       "      <td>CHEAPEST</td>\n",
       "      <td>0.0</td>\n",
       "      <td>ADDRESS_PREFORM_TYPE $$ GUIDED_HELP_TYPE $$ JE...</td>\n",
       "      <td>https://www.ifood.com.br/delivery/brasilia-df/...</td>\n",
       "    </tr>\n",
       "  </tbody>\n",
       "</table>\n",
       "</div>"
      ],
      "text/plain": [
       "    availableForScheduling                                             avatar  \\\n",
       "24                   False  https://static-images.ifood.com.br/image/uploa...   \n",
       "29                   False  https://static-images.ifood.com.br/image/uploa...   \n",
       "36                   False  https://static-images.ifood.com.br/image/uploa...   \n",
       "\n",
       "   category  delivery_fee  delivery_time  distance     ibge  \\\n",
       "24  Lanches           9.0             80      9.53  5300108   \n",
       "29  Mercado          15.0            120     13.21  5300108   \n",
       "36  Lanches          12.0             90     10.88  5300108   \n",
       "\n",
       "    minimumOrderValue                                      name  \\\n",
       "24                0.0                     Kelly Crepes & Massas   \n",
       "29               50.0  Feirinha Delivery de Frutas & Verduras 2   \n",
       "36               10.0                             Tapioca da Zi   \n",
       "\n",
       "                                         paymentCodes     price_range  rating  \\\n",
       "24  DNR $$ MPAY $$ MOVPAY_MC $$ MC $$ GPY_ELO $$ R...        CHEAPEST     0.0   \n",
       "29  DNR $$ MPAY $$ MOVPAY_MC $$ RAM $$ MC $$ GPY_E...  MOST_EXPENSIVE     0.0   \n",
       "36  DNR $$ MPAY $$ MOVPAY_MC $$ MC $$ GPY_ELO $$ R...        CHEAPEST     0.0   \n",
       "\n",
       "                                                 tags  \\\n",
       "24  ADDRESS_PREFORM_TYPE $$ GUIDED_HELP_TYPE $$ HA...   \n",
       "29  ADDRESS_PREFORM_TYPE $$ GUIDED_HELP_TYPE $$ LO...   \n",
       "36  ADDRESS_PREFORM_TYPE $$ GUIDED_HELP_TYPE $$ JE...   \n",
       "\n",
       "                                                  url  \n",
       "24  https://www.ifood.com.br/delivery/brasilia-df/...  \n",
       "29  https://www.ifood.com.br/delivery/brasilia-df/...  \n",
       "36  https://www.ifood.com.br/delivery/brasilia-df/...  "
      ]
     },
     "execution_count": 75,
     "metadata": {},
     "output_type": "execute_result"
    }
   ],
   "source": [
    "#condicional para salvar todos os outliers em um df para comparativos \n",
    "outliers_geral= df[((df[numericas] < (Q1 - 1.5 * IQR)) | (df[numericas] > (Q3 + 1.5 * IQR))).any(axis=1)]\n",
    "outliers_geral.head(3)"
   ]
  },
  {
   "cell_type": "code",
   "execution_count": 66,
   "id": "c4d5125b",
   "metadata": {},
   "outputs": [
    {
     "name": "stdout",
     "output_type": "stream",
     "text": [
      "Quantidade de registro na base:406399\n",
      "Quantidade de outliers na base: 14725\n",
      "Percentual de outliers 4.0 %\n"
     ]
    }
   ],
   "source": [
    "print(f'Quantidade de registro na base:{len(df)}')\n",
    "print(f'Quantidade de outliers na base: {len(outliers_geral)}')\n",
    "print(f'Percentual de outliers {np.round(100*len(outliers_geral)/len(df),0)} %')"
   ]
  },
  {
   "cell_type": "code",
   "execution_count": 68,
   "id": "20ff0a23",
   "metadata": {},
   "outputs": [],
   "source": [
    "df_sem_out = df[~((df[numericas] < (Q1 - 1.5 * IQR)) | (df[numericas] > (Q3 + 1.5 * IQR))).any(axis=1)]"
   ]
  },
  {
   "cell_type": "code",
   "execution_count": 69,
   "id": "81a85180",
   "metadata": {},
   "outputs": [
    {
     "name": "stdout",
     "output_type": "stream",
     "text": [
      "Quantidade de linhas sem outliers = 391674\n"
     ]
    }
   ],
   "source": [
    "print(f'Quantidade de linhas sem outliers = {len(df_sem_out)}')"
   ]
  },
  {
   "cell_type": "code",
   "execution_count": 70,
   "id": "23c8124e",
   "metadata": {},
   "outputs": [
    {
     "data": {
      "text/html": [
       "<div>\n",
       "<style scoped>\n",
       "    .dataframe tbody tr th:only-of-type {\n",
       "        vertical-align: middle;\n",
       "    }\n",
       "\n",
       "    .dataframe tbody tr th {\n",
       "        vertical-align: top;\n",
       "    }\n",
       "\n",
       "    .dataframe thead th {\n",
       "        text-align: right;\n",
       "    }\n",
       "</style>\n",
       "<table border=\"1\" class=\"dataframe\">\n",
       "  <thead>\n",
       "    <tr style=\"text-align: right;\">\n",
       "      <th></th>\n",
       "      <th>availableForScheduling</th>\n",
       "      <th>avatar</th>\n",
       "      <th>category</th>\n",
       "      <th>delivery_fee</th>\n",
       "      <th>delivery_time</th>\n",
       "      <th>distance</th>\n",
       "      <th>ibge</th>\n",
       "      <th>minimumOrderValue</th>\n",
       "      <th>name</th>\n",
       "      <th>paymentCodes</th>\n",
       "      <th>price_range</th>\n",
       "      <th>rating</th>\n",
       "      <th>tags</th>\n",
       "      <th>url</th>\n",
       "    </tr>\n",
       "  </thead>\n",
       "  <tbody>\n",
       "    <tr>\n",
       "      <th>0</th>\n",
       "      <td>False</td>\n",
       "      <td>https://static-images.ifood.com.br/image/uploa...</td>\n",
       "      <td>Marmita</td>\n",
       "      <td>3.99</td>\n",
       "      <td>27</td>\n",
       "      <td>1.22</td>\n",
       "      <td>5300108</td>\n",
       "      <td>10.0</td>\n",
       "      <td>Cantina Arte &amp; Sabor</td>\n",
       "      <td>DNR $$ MPAY $$ MOVPAY_MC $$ MC $$ GPY_ELO $$ E...</td>\n",
       "      <td>CHEAPEST</td>\n",
       "      <td>0.0</td>\n",
       "      <td>ADDRESS_PREFORM_TYPE $$ CART::MCHT::100_DELIVE...</td>\n",
       "      <td>https://www.ifood.com.br/delivery/brasilia-df/...</td>\n",
       "    </tr>\n",
       "    <tr>\n",
       "      <th>1</th>\n",
       "      <td>False</td>\n",
       "      <td>https://static-images.ifood.com.br/image/uploa...</td>\n",
       "      <td>Açaí</td>\n",
       "      <td>7.99</td>\n",
       "      <td>61</td>\n",
       "      <td>4.96</td>\n",
       "      <td>5300108</td>\n",
       "      <td>10.0</td>\n",
       "      <td>Raruty Açaí Raiz</td>\n",
       "      <td>DNR $$ MPAY $$ MOVPAY_MC $$ MC $$ GPY_ELO $$ E...</td>\n",
       "      <td>CHEAPEST</td>\n",
       "      <td>0.0</td>\n",
       "      <td>ADDRESS_PREFORM_TYPE $$ GUIDED_HELP_TYPE $$ ME...</td>\n",
       "      <td>https://www.ifood.com.br/delivery/brasilia-df/...</td>\n",
       "    </tr>\n",
       "  </tbody>\n",
       "</table>\n",
       "</div>"
      ],
      "text/plain": [
       "   availableForScheduling                                             avatar  \\\n",
       "0                   False  https://static-images.ifood.com.br/image/uploa...   \n",
       "1                   False  https://static-images.ifood.com.br/image/uploa...   \n",
       "\n",
       "  category  delivery_fee  delivery_time  distance     ibge  minimumOrderValue  \\\n",
       "0  Marmita          3.99             27      1.22  5300108               10.0   \n",
       "1     Açaí          7.99             61      4.96  5300108               10.0   \n",
       "\n",
       "                   name                                       paymentCodes  \\\n",
       "0  Cantina Arte & Sabor  DNR $$ MPAY $$ MOVPAY_MC $$ MC $$ GPY_ELO $$ E...   \n",
       "1      Raruty Açaí Raiz  DNR $$ MPAY $$ MOVPAY_MC $$ MC $$ GPY_ELO $$ E...   \n",
       "\n",
       "  price_range  rating                                               tags  \\\n",
       "0    CHEAPEST     0.0  ADDRESS_PREFORM_TYPE $$ CART::MCHT::100_DELIVE...   \n",
       "1    CHEAPEST     0.0  ADDRESS_PREFORM_TYPE $$ GUIDED_HELP_TYPE $$ ME...   \n",
       "\n",
       "                                                 url  \n",
       "0  https://www.ifood.com.br/delivery/brasilia-df/...  \n",
       "1  https://www.ifood.com.br/delivery/brasilia-df/...  "
      ]
     },
     "execution_count": 70,
     "metadata": {},
     "output_type": "execute_result"
    }
   ],
   "source": [
    "df_sem_out.head(2)"
   ]
  },
  {
   "cell_type": "code",
   "execution_count": null,
   "id": "9e0d71c1",
   "metadata": {},
   "outputs": [],
   "source": [
    "#SALVANDO ARQUIVO CSV\n",
    "columns_to_use =[\n",
    "    \"availableForScheduling\",\n",
    "    \"category\",\n",
    "    \"delivery_fee\",\n",
    "    \"delivery_time\",\n",
    "    \"distance\",\n",
    "    \"minimumOrderValue\",\n",
    "    \"price_range\",\n",
    "    \"rating\"\n",
    "]\n",
    "\n",
    "df_final=df_sem_out[columns_to_use]"
   ]
  },
  {
   "cell_type": "code",
   "execution_count": 73,
   "id": "5ea74f1a",
   "metadata": {},
   "outputs": [],
   "source": [
    "df_final.to_csv(\"./base_ifood_limpa.csv\", sep=\";\", header=True)"
   ]
  }
 ],
 "metadata": {
  "kernelspec": {
   "display_name": "Python 3",
   "language": "python",
   "name": "python3"
  },
  "language_info": {
   "codemirror_mode": {
    "name": "ipython",
    "version": 3
   },
   "file_extension": ".py",
   "mimetype": "text/x-python",
   "name": "python",
   "nbconvert_exporter": "python",
   "pygments_lexer": "ipython3",
   "version": "3.13.2"
  }
 },
 "nbformat": 4,
 "nbformat_minor": 5
}
